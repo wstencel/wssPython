{
 "cells": [
  {
   "cell_type": "markdown",
   "metadata": {},
   "source": [
    "## HTML Scraping"
   ]
  },
  {
   "cell_type": "code",
   "execution_count": null,
   "metadata": {},
   "outputs": [],
   "source": []
  },
  {
   "cell_type": "code",
   "execution_count": 1,
   "metadata": {},
   "outputs": [
    {
     "name": "stdout",
     "output_type": "stream",
     "text": [
      "\n",
      "WSSTENCEL\n",
      "Number of sublists in results using len() function:  142 \n",
      "\n",
      "\n",
      "[['COUNTY', 'STATE', 'REGISTRATION RATE'], ['Lowndes County', 'Alabama', '127%'], ['Perry County', 'Alabama', '113%'], ['Greene County', 'Alabama', '112%'], ['Macon County', 'Alabama', '112%'], ['Wilcox County', 'Alabama', '110%'], ['Marengo County', 'Alabama', '104%'], ['Hale County', 'Alabama', '104%'], ['Washington County', 'Alabama', '103%'], ['Conecuh County', 'Alabama', '102%'], ['Choctaw County', 'Alabama', '102%'], ['Apache County', 'Arizona', '101%'], ['Mineral County', 'Colorado', '133%'], ['Hinsdale County', 'Colorado', '116%'], ['San Juan County', 'Colorado', '115%'], ['Ouray County', 'Colorado', '112%'], ['Pitkin County', 'Colorado', '105%'], ['Summit County', 'Colorado', '105%'], ['Dolores County', 'Colorado', '104%'], ['San Miguel County', 'Colorado', '103%'], ['Cheyenne County', 'Colorado', '101%'], ['Boulder County', 'Colorado', '101%'], ['Mcintosh County', 'Georgia', '142%'], ['Marion County', 'Georgia', '129%'], ['Franklin County', 'Illinois', '190%'], ['Pulaski County', 'Illinois', '176%'], ['Washington County', 'Illinois', '150%'], ['Henderson County', 'Illinois', '148%'], ['Union County', 'Illinois', '138%'], ['Rock Island County', 'Illinois', '133%'], ['Alexander County', 'Illinois', '130%'], ['Massac County', 'Illinois', '125%'], ['Hardin County', 'Illinois', '119%'], ['Mercer County', 'Illinois', '109%'], ['Crawford County', 'Illinois', '109%'], ['Wabash County', 'Illinois', '105%'], ['White County', 'Illinois', '104%'], ['Jersey County', 'Illinois', '104%'], ['Jefferson County', 'Illinois', '102%'], ['Sangamon County', 'Illinois', '101%'], ['Scott County', 'Illinois', '101%'], ['Crawford County', 'Indiana', '112%'], ['Scott County', 'Indiana', '107%'], ['Franklin County', 'Indiana', '106%'], ['Brown County', 'Indiana', '104%'], ['Tipton County', 'Indiana', '104%'], ['Union County', 'Indiana', '103%'], ['Orange County', 'Indiana', '103%'], ['Dearborn County', 'Indiana', '102%'], ['Newton County', 'Indiana', '102%'], ['Warrick County', 'Indiana', '101%'], ['Clark County', 'Indiana', '101%'], ['Fremont County', 'Iowa', '104%'], ['Lyon County', 'Iowa', '101%'], ['Gove County', 'Kansas', '116%'], ['Cherokee County', 'Kansas', '105%'], ['Bourbon County', 'Kansas', '102%'], ['Rawlins County', 'Kansas', '101%'], ['Breathitt County', 'Kentucky', '110%'], ['Fulton County', 'Kentucky', '106%'], ['Menifee County', 'Kentucky', '105%'], ['Magoffin County', 'Kentucky', '103%'], ['Wolfe County', 'Kentucky', '103%'], ['Trimble County', 'Kentucky', '103%'], ['Monroe County', 'Kentucky', '103%'], ['Carlisle County', 'Kentucky', '102%'], ['Mercer County', 'Kentucky', '102%'], ['Floyd County', 'Kentucky', '102%'], ['Powell County', 'Kentucky', '102%'], ['Owsley County', 'Kentucky', '102%'], ['Anderson County', 'Kentucky', '102%'], ['Cumberland County', 'Kentucky', '102%'], ['Leslie County', 'Kentucky', '101%'], ['Caldwell County', 'Kentucky', '101%'], ['Hancock County', 'Kentucky', '101%'], ['Livingston County', 'Kentucky', '101%'], ['Tensas Parish', 'Louisiana', '109%'], ['St. Helena Parish', 'Louisiana', '104%'], ['Cameron Parish', 'Louisiana', '102%'], ['Leelanau County', 'Michigan', '109%'], ['Roscommon County', 'Michigan', '107%'], ['Charlevoix County', 'Michigan', '107%'], ['Otsego County', 'Michigan', '107%'], ['Ontonagon County', 'Michigan', '107%'], ['Antrim County', 'Michigan', '107%'], ['Dickinson County', 'Michigan', '106%'], ['Emmet County', 'Michigan', '106%'], ['Genesee County', 'Michigan', '105%'], ['Iosco County', 'Michigan', '105%'], ['Kalkaska County', 'Michigan', '105%'], ['Berrien County', 'Michigan', '105%'], ['Keweenaw County', 'Michigan', '104%'], ['Benzie County', 'Michigan', '104%'], ['Mackinac County', 'Michigan', '104%'], ['Gladwin County', 'Michigan', '104%'], ['Alcona County', 'Michigan', '103%'], ['Gogebic County', 'Michigan', '103%'], ['Cheboygan County', 'Michigan', '102%'], ['Menominee County', 'Michigan', '102%'], ['Montmorency County', 'Michigan', '101%'], ['Saginaw County', 'Michigan', '101%'], ['Midland County', 'Michigan', '101%'], ['Wayne County', 'Michigan', '101%'], ['Walthall County', 'Mississippi', '109%'], ['Issaquena County', 'Mississippi', '107%'], ['Lincoln County', 'Mississippi', '103%'], ['Amite County', 'Mississippi', '101%'], ['Ray County', 'Missouri', '101%'], ['Petroleum County', 'Montana', '108%'], ['Carter County', 'Montana', '103%'], ['Loup County', 'Nebraska', '110%'], ['Wheeler County', 'Nebraska', '107%'], ['Kimball County', 'Nebraska', '106%'], ['Thurston County', 'Nebraska', '102%'], ['Hooker County', 'Nebraska', '101%'], ['Keya Paha County', 'Nebraska', '101%'], ['Thomas County', 'Nebraska', '101%'], ['Harding County', 'New Mexico', '133%'], ['Mora County', 'New Mexico', '110%'], ['Catron County', 'New Mexico', '103%'], ['Los Alamos County', 'New Mexico', '102%'], ['De Baca County', 'New Mexico', '102%'], ['Hamilton County', 'New York', '122%'], ['Clay County', 'North Carolina', '103%'], ['Yancey County', 'North Carolina', '101%'], ['Hanson County', 'South Dakota', '163%'], ['Campbell County', 'South Dakota', '105%'], ['Union County', 'South Dakota', '105%'], ['Potter County', 'South Dakota', '102%'], ['Harding County', 'South Dakota', '101%'], ['Brooks County', 'Texas', '123%'], ['Kenedy County', 'Texas', '116%'], ['Terrell County', 'Texas', '111%'], ['McMullen County', 'Texas', '109%'], ['Irion County', 'Texas', '107%'], ['Jim Hogg County', 'Texas', '105%'], ['Culberson County', 'Texas', '104%'], ['Presidio County', 'Texas', '102%'], ['Polk County', 'Texas', '101%'], ['Mingo County', 'West Virginia', '108%'], ['Lincoln County', 'West Virginia', '107%'], ['McDowell County', 'West Virginia', '103%']]\n"
     ]
    }
   ],
   "source": [
    "\"\"\"\n",
    "Created on Tue Apr  7 20:30:59 2020\n",
    "\n",
    "@author: William Stencel\n",
    "\"\"\"\n",
    "from bs4 import BeautifulSoup  # Parsing HTML\n",
    "import requests  # Internet information requests\n",
    "#import re        # Regular Expressions (Regex) package\n",
    "\n",
    "htmlPath = 'http://publicinterestlegal.org/county-list/'\n",
    "htmlDoc = requests.get(htmlPath, headers={'User-Agent': 'Mozilla/5.0'}).content # was getting 403 error\n",
    "\n",
    "\"\"\" parse html \"\"\"\n",
    "htmlParsed = BeautifulSoup(htmlDoc, 'lxml')\n",
    "counties = htmlParsed.find_all('tr')  # Finds one row of data\n",
    "\n",
    "\n",
    "county_tbl = []  # set up an empty list in which to store the data \n",
    "for county in counties:\n",
    "    new_county = []   #create empty list to store the data from the next county\n",
    "    for field in county.find_all('td'): \n",
    "        new_county.append(field.text)   # append next data point to the current county list\n",
    "        \n",
    "    county_tbl.append(new_county)        # append current county data list to overall list\n",
    "\n",
    "print('\\nWSSTENCEL')\n",
    "print('Number of sublists in results using len() function: ', len(county_tbl), '\\n\\n')\n",
    "print(county_tbl)\n"
   ]
  },
  {
   "cell_type": "code",
   "execution_count": null,
   "metadata": {},
   "outputs": [],
   "source": []
  }
 ],
 "metadata": {
  "kernelspec": {
   "display_name": "Python 3",
   "language": "python",
   "name": "python3"
  },
  "language_info": {
   "codemirror_mode": {
    "name": "ipython",
    "version": 3
   },
   "file_extension": ".py",
   "mimetype": "text/x-python",
   "name": "python",
   "nbconvert_exporter": "python",
   "pygments_lexer": "ipython3",
   "version": "3.7.3"
  }
 },
 "nbformat": 4,
 "nbformat_minor": 2
}
