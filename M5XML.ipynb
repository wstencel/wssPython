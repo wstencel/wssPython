{
 "cells": [
  {
   "cell_type": "markdown",
   "metadata": {},
   "source": [
    "# XML Examples"
   ]
  },
  {
   "cell_type": "markdown",
   "metadata": {},
   "source": [
    "## Exloring course1.xml\n",
    "\n",
    "Program to open course1.xml and access its tags and data elements "
   ]
  },
  {
   "cell_type": "code",
   "execution_count": 1,
   "metadata": {},
   "outputs": [
    {
     "name": "stdout",
     "output_type": "stream",
     "text": [
      "Output from Indivdual Statements\n",
      "Course\n",
      "CTBA\n",
      "CTBA\n",
      "1\n",
      "3\n",
      "\n",
      "Session 1\n",
      "Session 2\n",
      "Session 3\n",
      "\n",
      "Name: CTBA\n",
      "Number: BUAD 5012\n",
      "Session: 1\n",
      "Session: 2\n",
      "Session: 3\n"
     ]
    }
   ],
   "source": [
    "from lxml import objectify\n",
    "\n",
    "\"\"\" Read the XML file \"\"\"\n",
    "fileIn = open('M5course1.xml','r')\n",
    "data = fileIn.read()\n",
    "fileIn.close()\n",
    "\n",
    "\"\"\" Parse the XML document file \"\"\"\n",
    "root = objectify.fromstring(data)\n",
    "\n",
    "\"\"\" Investigate some tags and text \"\"\"\n",
    "print('Output from Indivdual Statements')\n",
    "print(root.tag)\n",
    "print(root.Name)\n",
    "print(root['Name'])\n",
    "print(root.Session)\n",
    "print(len(root.Session))\n",
    "print()\n",
    "\n",
    "\"\"\" Loop through the Session tags \"\"\"\n",
    "for i in range(len(root.Session)):\n",
    "    print(root.Session[i].tag, root.Session[i])\n",
    "\n",
    "print()  # prints a new line\n",
    "\n",
    "for thisTag in root.getchildren():\n",
    "    print(thisTag.tag + ':', thisTag.text)"
   ]
  },
  {
   "cell_type": "markdown",
   "metadata": {},
   "source": [
    "## course2.xml\n",
    "\n",
    "Program to open course2.xml and access its tags and data elements"
   ]
  },
  {
   "cell_type": "markdown",
   "metadata": {},
   "source": [
    "## Exploring course2.xml Recursively\n",
    "\n",
    "A succinct, flexible approach to iterating through the contents of course2.xml using a recursive function"
   ]
  },
  {
   "cell_type": "code",
   "execution_count": 8,
   "metadata": {},
   "outputs": [
    {
     "name": "stdout",
     "output_type": "stream",
     "text": [
      " Schedule\n",
      "     Course\n",
      "         Name: CTBA\n",
      "         Number: BUAD 5012\n",
      "         Session\n",
      "             Number: 1\n",
      "             Time: 8:00 - 9:20 a.m.\n",
      "             Days: MW\n",
      "         Session\n",
      "             Number: 2\n",
      "             Time: 9:30 - 10:50 a.m.\n",
      "             Days: MW\n",
      "         Session\n",
      "             Number: 3\n",
      "             Time: 12:30 - 1:50 p.m.\n",
      "             Days: MW\n",
      "     Course\n",
      "         Name: Heuristic  Algorithms\n",
      "         Number: BUAD 5042\n",
      "         Session\n",
      "             Number: 1\n",
      "             Time: 8:00 - 9:20 a.m.\n",
      "             Days: TTh\n",
      "         Session\n",
      "             Number: 2\n",
      "             Time: 9:30 - 10:50 a.m.\n",
      "             Days: TTh\n",
      "         Session\n",
      "             Number: 3\n",
      "             Time: 12:30 - 1:50 p.m.\n",
      "             Days: TTh\n"
     ]
    }
   ],
   "source": [
    "\"\"\" Function to print the contents of the current tag and\n",
    "    recursively explore lower levels of the XML document  \"\"\"\n",
    "def getChild(myTag,indent):\n",
    "    if myTag.text is not None:\n",
    "        print(indent,myTag.tag+':',myTag.text)\n",
    "    else:\n",
    "        print(indent,myTag.tag)\n",
    "    indent += '    '\n",
    "    for child in myTag.getchildren():\n",
    "        getChild(child,indent)\n",
    "    return\n",
    "        \n",
    "from lxml import objectify\n",
    "\n",
    "\"\"\" Read the XML file \"\"\"\n",
    "fileIn = open('M5course2.xml','r')\n",
    "data = fileIn.read()\n",
    "fileIn.close()\n",
    "\n",
    "\"\"\" Parse the XML document file \"\"\"\n",
    "root = objectify.fromstring(data)\n",
    "\n",
    "\"\"\" Explicate the XML tags using the recursive getChild() function \"\"\"\n",
    "getChild(root,'')"
   ]
  },
  {
   "cell_type": "markdown",
   "metadata": {},
   "source": [
    "## Retrieving and Exploring Internet Data"
   ]
  },
  {
   "cell_type": "code",
   "execution_count": null,
   "metadata": {
    "collapsed": true
   },
   "outputs": [],
   "source": []
  }
 ],
 "metadata": {
  "kernelspec": {
   "display_name": "Python 3",
   "language": "python",
   "name": "python3"
  },
  "language_info": {
   "codemirror_mode": {
    "name": "ipython",
    "version": 3
   },
   "file_extension": ".py",
   "mimetype": "text/x-python",
   "name": "python",
   "nbconvert_exporter": "python",
   "pygments_lexer": "ipython3",
   "version": "3.7.3"
  }
 },
 "nbformat": 4,
 "nbformat_minor": 2
}
